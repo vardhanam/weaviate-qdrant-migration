{
 "cells": [
  {
   "cell_type": "code",
   "execution_count": null,
   "metadata": {},
   "outputs": [],
   "source": [
    "import os\n",
    "import numpy as np\n",
    "import pandas as pd\n",
    "from dotenv import load_dotenv\n",
    "from datasets import load_dataset\n",
    "\n",
    "load_dotenv()"
   ]
  },
  {
   "cell_type": "code",
   "execution_count": null,
   "metadata": {},
   "outputs": [],
   "source": [
    "data = load_dataset(\"microsoft/wiki_qa\", split='train')\n",
    "data = data.to_pandas()\n",
    "data.head()"
   ]
  },
  {
   "cell_type": "code",
   "execution_count": null,
   "metadata": {},
   "outputs": [],
   "source": [
    "os.environ[\"OPENAI_APIKEY\"] = 'sk-proj-ZIAS0zf7QkcbmX8ukIepT3BlbkFJ2fBzQXWsqU5ZQRqWeEE7'\n",
    "os.environ[\"COHERE_API_KEY\"] = 'dgRilUFU3exGzYMqCwTYMsl3zcalDTironeQu8jE'\n",
    "os.environ[\"WCD_URL\"] = \"https://science-qa-divghtor.weaviate.network\"\n",
    "os.environ[\"WCD_API_KEY\"] = \"dQVdzdjXyULihBdgMebYKeMe92ltMlkwjtJb\"\n",
    "os.environ[\"QDRANT_API_KEY\"] = 'JDUeW-USdj7AAnmT7h8qt61BlPxm5XXZyQDmMBcg1l7QniYOHTjSsQ'\n",
    "os.environ[\"QDRANT_URL\"] = 'https://87298cc6-470f-4cc0-8e28-aeb973357390.us-east4-0.gcp.cloud.qdrant.io'"
   ]
  },
  {
   "cell_type": "code",
   "execution_count": null,
   "metadata": {},
   "outputs": [],
   "source": [
    "import weaviate\n",
    "import weaviate.classes as wvc\n",
    "import os\n",
    "import json\n",
    "\n",
    "client = weaviate.connect_to_weaviate_cloud(\n",
    "    cluster_url=os.getenv(\"WCD_URL\"),\n",
    "    auth_credentials=weaviate.auth.AuthApiKey(os.getenv(\"WCD_API_KEY\")),\n",
    "    headers={\n",
    "        \"X-OpenAI-Api-Key\": os.environ[\"OPENAI_APIKEY\"],  # Replace with your inference API key\n",
    "    }\n",
    ")"
   ]
  },
  {
   "cell_type": "code",
   "execution_count": null,
   "metadata": {},
   "outputs": [],
   "source": [
    "client.collections.create(\n",
    "        name=\"science_qa\",\n",
    "        vectorizer_config=wvc.config.Configure.Vectorizer.text2vec_openai(),  # If set to \"none\" you must always provide vectors yourself. Could be any other \"text2vec-*\" also.\n",
    "         # Ensure the `generative-openai` module is used for generative queries\n",
    "    )"
   ]
  },
  {
   "cell_type": "code",
   "execution_count": null,
   "metadata": {},
   "outputs": [],
   "source": [
    "sampled_df = data.sample(n=1000, random_state=1)\n",
    "\n",
    "# Create a list of dictionaries\n",
    "objs = sampled_df[['question','answer']].to_dict(orient='records')"
   ]
  },
  {
   "cell_type": "code",
   "execution_count": null,
   "metadata": {},
   "outputs": [],
   "source": [
    "objs[:3]"
   ]
  },
  {
   "cell_type": "code",
   "execution_count": null,
   "metadata": {},
   "outputs": [],
   "source": [
    "science_qa = client.collections.get(\"science_qa\")\n",
    "science_qa.data.insert_many(objs)"
   ]
  },
  {
   "cell_type": "code",
   "execution_count": null,
   "metadata": {},
   "outputs": [],
   "source": [
    "import weaviate\n",
    "import weaviate.classes as wvc\n",
    "import os\n",
    "import json\n",
    "\n",
    "def export_weaviate(collection_name, cluster_url, api_key, export_file):\n",
    "\n",
    "    client = weaviate.connect_to_weaviate_cloud(\n",
    "        cluster_url= cluster_url,\n",
    "        auth_credentials=weaviate.auth.AuthApiKey(api_key),\n",
    "    )\n",
    "\n",
    "    collection = client.collections.get(collection_name)\n",
    "\n",
    "    items_data = []\n",
    "    for item in collection.iterator(\n",
    "        include_vector=True  # If using named vectors, you can specify ones to include e.g. ['title', 'body'], or True to include all\n",
    "    ):\n",
    "        item_data = {\n",
    "            'properties': item.properties,\n",
    "            'vector': item.vector,\n",
    "            'uuid': item.uuid.urn.replace('urn:uuid:','')\n",
    "        }\n",
    "\n",
    "        items_data.append(item_data)\n",
    "\n",
    "    with open(export_file, 'w') as json_file:\n",
    "        json.dump(items_data, json_file, indent=4)"
   ]
  },
  {
   "cell_type": "code",
   "execution_count": null,
   "metadata": {},
   "outputs": [],
   "source": [
    "export_weaviate(collection_name= 'science_qa', cluster_url= os.getenv(\"WCD_URL\"), api_key= os.getenv(\"WCD_API_KEY\"),\n",
    "                export_file= 'export.json' )"
   ]
  },
  {
   "cell_type": "code",
   "execution_count": null,
   "metadata": {},
   "outputs": [],
   "source": [
    "from qdrant_client import QdrantClient, models\n",
    "\n",
    "\n",
    "def import_qdrant(url, api_key, collection_name, exported_file):\n",
    "\n",
    "    with open(exported_file, 'r') as json_file:\n",
    "        items_data = json.load(json_file)\n",
    "\n",
    "    properties_list = [item['properties'] for item in items_data]\n",
    "    vector_default_list = [item['vector']['default'] for item in items_data]\n",
    "    uuid_list = [item['uuid'] for item in items_data]\n",
    "\n",
    "    vector_dim = len(vector_default_list[0])\n",
    "\n",
    "    client = QdrantClient(url=url, api_key= api_key)\n",
    "\n",
    "    client.recreate_collection(collection_name= collection_name,\n",
    "                              vectors_config= models.VectorParams(size=vector_dim, distance=models.Distance.COSINE))\n",
    "\n",
    "    batch_size= 1000\n",
    "\n",
    "    for i in range(0, len(uuid_list), batch_size):\n",
    "        batch_uuids = uuid_list[i:i + batch_size]\n",
    "        batch_properties = properties_list[i:i + batch_size]\n",
    "        batch_vectors = vector_default_list[i:i + batch_size]\n",
    "\n",
    "        client.upsert(\n",
    "            collection_name=collection_name,\n",
    "            points=models.Batch(\n",
    "                ids=batch_uuids,\n",
    "                payloads=batch_properties,\n",
    "                vectors=batch_vectors,\n",
    "            ),\n",
    "        )\n"
   ]
  },
  {
   "cell_type": "code",
   "execution_count": null,
   "metadata": {},
   "outputs": [],
   "source": [
    "import_qdrant(url= os.getenv(\"QDRANT_URL\")  , api_key= os.getenv(\"QDRANT_API_KEY\") ,\n",
    "              collection_name= 'science_qa', exported_file= 'items_data.json')"
   ]
  }
 ],
 "metadata": {
  "kernelspec": {
   "display_name": "base",
   "language": "python",
   "name": "python3"
  },
  "language_info": {
   "codemirror_mode": {
    "name": "ipython",
    "version": 3
   },
   "file_extension": ".py",
   "mimetype": "text/x-python",
   "name": "python",
   "nbconvert_exporter": "python",
   "pygments_lexer": "ipython3",
   "version": "3.10.11"
  }
 },
 "nbformat": 4,
 "nbformat_minor": 2
}
